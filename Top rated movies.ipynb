{
 "cells": [
  {
   "cell_type": "code",
   "execution_count": 120,
   "metadata": {},
   "outputs": [],
   "source": [
    "#Import all required libraries\n",
    "\n",
    "from bs4 import BeautifulSoup\n",
    "import requests\n",
    "import pandas as pd\n",
    "from IPython.display import HTML\n",
    "import numpy as np"
   ]
  },
  {
   "cell_type": "code",
   "execution_count": 94,
   "metadata": {},
   "outputs": [],
   "source": [
    "# url of the website to scrape\n",
    "url = 'https://www.imdb.com/chart/top/'"
   ]
  },
  {
   "cell_type": "code",
   "execution_count": 95,
   "metadata": {},
   "outputs": [],
   "source": [
    "# making request to that website using url\n",
    "r = requests.get(url)"
   ]
  },
  {
   "cell_type": "code",
   "execution_count": 96,
   "metadata": {},
   "outputs": [],
   "source": [
    "# getting content of the website\n",
    "body = r.text"
   ]
  },
  {
   "cell_type": "code",
   "execution_count": 97,
   "metadata": {},
   "outputs": [],
   "source": [
    "# passing content of the website to BeautifulSoup to parse as HTML page\n",
    "soup = BeautifulSoup(body, 'html')"
   ]
  },
  {
   "cell_type": "code",
   "execution_count": 98,
   "metadata": {},
   "outputs": [],
   "source": [
    "# find all table that have following styled class\n",
    "table = soup.find_all('table', class_='chart full-width')"
   ]
  },
  {
   "cell_type": "code",
   "execution_count": 99,
   "metadata": {},
   "outputs": [],
   "source": [
    "# get the first table from the result\n",
    "table = table[0]"
   ]
  },
  {
   "cell_type": "code",
   "execution_count": 100,
   "metadata": {},
   "outputs": [],
   "source": [
    "# finding and iterating the table to save name of the movie\n",
    "names = []\n",
    "for row in table.find_all('tr'):\n",
    "    for cell in row.find_all('td', class_='titleColumn'):\n",
    "        for link in cell.find_all('a'):\n",
    "            names.append(link.text)"
   ]
  },
  {
   "cell_type": "code",
   "execution_count": 101,
   "metadata": {},
   "outputs": [],
   "source": [
    "# finding and iterating the table to save rating of the movie\n",
    "rating = []\n",
    "for row in table.find_all('tr'):\n",
    "    for cell in row.find_all('td', class_='imdbRating'):\n",
    "        for stars in cell.find_all('strong'):\n",
    "            rating.append(stars.text)"
   ]
  },
  {
   "cell_type": "code",
   "execution_count": 102,
   "metadata": {},
   "outputs": [],
   "source": [
    "# finding and iterating the table to find link for each movie\n",
    "links = []\n",
    "for row in table.find_all('tr'):\n",
    "    for cell in row.find_all('td', class_='titleColumn'):\n",
    "        for link in cell.find_all('a'):\n",
    "            whole_link = 'https://www.imdb.com' + link.get('href')\n",
    "            links.append(whole_link)"
   ]
  },
  {
   "cell_type": "code",
   "execution_count": 103,
   "metadata": {},
   "outputs": [],
   "source": [
    "# finding and iterating the table to find poster link of the movies\n",
    "poster_link = []\n",
    "for row in table.find_all('tr'):\n",
    "    for cell in row.find_all('td', class_='posterColumn'):\n",
    "        for link in cell.find_all('img'):\n",
    "            poster_link.append(link.get('src'))"
   ]
  },
  {
   "cell_type": "code",
   "execution_count": null,
   "metadata": {},
   "outputs": [],
   "source": [
    "# finding and iterating the table to find released year and small description of the movie\n",
    "summary = []\n",
    "year_data = []\n",
    "index = 0\n",
    "\n",
    "for l in links:\n",
    "    r = requests.get(l)\n",
    "    body = r.text\n",
    "    soup = BeautifulSoup(body, 'html')\n",
    "    for heading in soup.find_all('div', class_='summary_text'):\n",
    "        result = heading.text\n",
    "        newstr = \"\".join(result.split('\\n'))\n",
    "        summary.append(newstr)\n",
    "    for year in soup.find_all('div', class_='title_wrapper'):\n",
    "        for span in year.find_all('h1', class_=''):\n",
    "            yr = span.text\n",
    "            yr = yr.split()\n",
    "            yr = yr[-1].replace('(', \"\").replace(')', \"\")\n",
    "            year_data.append(yr)\n",
    "            index = index + 1"
   ]
  },
  {
   "cell_type": "code",
   "execution_count": 89,
   "metadata": {},
   "outputs": [],
   "source": [
    "# Creating df from the list of datas and set to specific column to store \n",
    "df = pd.DataFrame(list(zip(year_data, names, rating, links, summary, poster_link)), \n",
    "                  columns=['Released Year', 'Name', 'Rating', 'Link', 'Summary', 'Poster link'])"
   ]
  },
  {
   "cell_type": "code",
   "execution_count": 123,
   "metadata": {},
   "outputs": [
    {
     "data": {
      "text/html": [
       "<div>\n",
       "<style scoped>\n",
       "    .dataframe tbody tr th:only-of-type {\n",
       "        vertical-align: middle;\n",
       "    }\n",
       "\n",
       "    .dataframe tbody tr th {\n",
       "        vertical-align: top;\n",
       "    }\n",
       "\n",
       "    .dataframe thead th {\n",
       "        text-align: right;\n",
       "    }\n",
       "</style>\n",
       "<table border=\"1\" class=\"dataframe\">\n",
       "  <thead>\n",
       "    <tr style=\"text-align: right;\">\n",
       "      <th></th>\n",
       "      <th>Year</th>\n",
       "      <th>Name</th>\n",
       "      <th>Rating</th>\n",
       "      <th>Link</th>\n",
       "      <th>Summary</th>\n",
       "      <th>Poster link</th>\n",
       "    </tr>\n",
       "  </thead>\n",
       "  <tbody>\n",
       "    <tr>\n",
       "      <th>1</th>\n",
       "      <td>1994</td>\n",
       "      <td>The Shawshank Redemption</td>\n",
       "      <td>9.2</td>\n",
       "      <td>https://www.imdb.com/title/tt0111161/</td>\n",
       "      <td>Two imprisoned men bond ov...</td>\n",
       "      <td>https://m.media-amazon.com/images/M/MV5BMDFkYT...</td>\n",
       "    </tr>\n",
       "    <tr>\n",
       "      <th>2</th>\n",
       "      <td>1972</td>\n",
       "      <td>The Godfather</td>\n",
       "      <td>9.1</td>\n",
       "      <td>https://www.imdb.com/title/tt0068646/</td>\n",
       "      <td>The aging patriarch of an ...</td>\n",
       "      <td>https://m.media-amazon.com/images/M/MV5BM2MyNj...</td>\n",
       "    </tr>\n",
       "    <tr>\n",
       "      <th>3</th>\n",
       "      <td>1974</td>\n",
       "      <td>The Godfather: Part II</td>\n",
       "      <td>9.0</td>\n",
       "      <td>https://www.imdb.com/title/tt0071562/</td>\n",
       "      <td>The early life and career ...</td>\n",
       "      <td>https://m.media-amazon.com/images/M/MV5BMWMwMG...</td>\n",
       "    </tr>\n",
       "    <tr>\n",
       "      <th>4</th>\n",
       "      <td>2008</td>\n",
       "      <td>The Dark Knight</td>\n",
       "      <td>9.0</td>\n",
       "      <td>https://www.imdb.com/title/tt0468569/</td>\n",
       "      <td>When the menace known as t...</td>\n",
       "      <td>https://m.media-amazon.com/images/M/MV5BMTMxNT...</td>\n",
       "    </tr>\n",
       "    <tr>\n",
       "      <th>5</th>\n",
       "      <td>1957</td>\n",
       "      <td>12 Angry Men</td>\n",
       "      <td>8.9</td>\n",
       "      <td>https://www.imdb.com/title/tt0050083/</td>\n",
       "      <td>A jury holdout attempts to...</td>\n",
       "      <td>https://m.media-amazon.com/images/M/MV5BMWU4N2...</td>\n",
       "    </tr>\n",
       "  </tbody>\n",
       "</table>\n",
       "</div>"
      ],
      "text/plain": [
       "   Year                      Name Rating  \\\n",
       "1  1994  The Shawshank Redemption    9.2   \n",
       "2  1972             The Godfather    9.1   \n",
       "3  1974    The Godfather: Part II    9.0   \n",
       "4  2008           The Dark Knight    9.0   \n",
       "5  1957              12 Angry Men    8.9   \n",
       "\n",
       "                                    Link  \\\n",
       "1  https://www.imdb.com/title/tt0111161/   \n",
       "2  https://www.imdb.com/title/tt0068646/   \n",
       "3  https://www.imdb.com/title/tt0071562/   \n",
       "4  https://www.imdb.com/title/tt0468569/   \n",
       "5  https://www.imdb.com/title/tt0050083/   \n",
       "\n",
       "                                             Summary  \\\n",
       "1                      Two imprisoned men bond ov...   \n",
       "2                      The aging patriarch of an ...   \n",
       "3                      The early life and career ...   \n",
       "4                      When the menace known as t...   \n",
       "5                      A jury holdout attempts to...   \n",
       "\n",
       "                                         Poster link  \n",
       "1  https://m.media-amazon.com/images/M/MV5BMDFkYT...  \n",
       "2  https://m.media-amazon.com/images/M/MV5BM2MyNj...  \n",
       "3  https://m.media-amazon.com/images/M/MV5BMWMwMG...  \n",
       "4  https://m.media-amazon.com/images/M/MV5BMTMxNT...  \n",
       "5  https://m.media-amazon.com/images/M/MV5BMWU4N2...  "
      ]
     },
     "execution_count": 123,
     "metadata": {},
     "output_type": "execute_result"
    }
   ],
   "source": [
    "# Set start index value to one\n",
    "df.index = np.arange(1, len(df) + 1)\n",
    "\n",
    "# Checking first five rows of data\n",
    "df.head()"
   ]
  },
  {
   "cell_type": "code",
   "execution_count": null,
   "metadata": {},
   "outputs": [],
   "source": [
    "# saving df as HTML table\n",
    "#HTML(df.to_html())"
   ]
  },
  {
   "cell_type": "code",
   "execution_count": 103,
   "metadata": {},
   "outputs": [],
   "source": [
    "# saving df as csv file\n",
    "df.to_csv('Top Rated Movies.csv', index=True)"
   ]
  },
  {
   "cell_type": "code",
   "execution_count": 104,
   "metadata": {},
   "outputs": [],
   "source": [
    "# saving df as excel file\n",
    "df.to_excel('Top Rated Movies.xlsx', index=False, header=True)"
   ]
  },
  {
   "cell_type": "code",
   "execution_count": null,
   "metadata": {},
   "outputs": [],
   "source": []
  }
 ],
 "metadata": {
  "kernelspec": {
   "display_name": "Python 3",
   "language": "python",
   "name": "python3"
  },
  "language_info": {
   "codemirror_mode": {
    "name": "ipython",
    "version": 3
   },
   "file_extension": ".py",
   "mimetype": "text/x-python",
   "name": "python",
   "nbconvert_exporter": "python",
   "pygments_lexer": "ipython3",
   "version": "3.7.1"
  }
 },
 "nbformat": 4,
 "nbformat_minor": 2
}
